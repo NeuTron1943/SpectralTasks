{
 "cells": [
  {
   "cell_type": "markdown",
   "metadata": {},
   "source": [
    "\n",
    "\n",
    "\n",
    "$ H = - \\frac{d^2}{dx^2} + V_0 \\exp{(-x^2)}$\n",
    "\n",
    "\n",
    "$H\\Psi = E\\Psi$\n",
    "\n",
    "Задачи:\n",
    "- Найти энергию основного состояния методом ортогональных коллокаций\n",
    "\n"
   ]
  },
  {
   "cell_type": "code",
   "execution_count": null,
   "metadata": {},
   "outputs": [],
   "source": [
    "# Пятидиагональная матрица"
   ]
  },
  {
   "cell_type": "code",
   "execution_count": 4,
   "metadata": {},
   "outputs": [],
   "source": [
    "from tokenize import Double\n",
    "import numpy as np\n",
    "import time\n",
    "from scipy.sparse import diags\n",
    "from scipy.linalg import eigh_tridiagonal\n",
    "from scipy.linalg import eig\n",
    "from matplotlib import pyplot as plt\n",
    "\n",
    "rightRoot = 1 / np.sqrt(3)\n",
    "leftRoot = - rightRoot\n",
    "\n",
    "\n",
    "def getPotentialValue(x: np.double, v_0: np.double) -> np.double:\n",
    "    return (-1) * v_0 * np.exp(-1 * (x * x), dtype=np.double)\n",
    "\n",
    "def makeDiffMatrix(n: int, R: np.double, v_0: np.double) -> np.ndarray:\n",
    "    delta = 2*R / (n-1)\n",
    "    diagonal = np.zeros(n, dtype=np.double)\n",
    "    subDiagonal = np.ones(n-1, dtype=np.double) * (-1) / (delta * delta)\n",
    "    \n",
    "    xs = np.linspace(-R, R, n, dtype=np.double)\n",
    "    \n",
    "    for i in range(n):\n",
    "        diagonal[i] = 2 / (delta * delta) + getPotentialValue(xs[i], v_0)\n",
    "\n",
    "    # return diags([diagonal, subDiagonal, subDiagonal], [0, -1, 1])  \n",
    "    return (diagonal, subDiagonal)\n",
    "\n",
    "# Project point from [-1, 1] interval on interval [leftBorder, rightBorder]\n",
    "def projectOnInterval(leftBorder: float, rightBorder: float, point: float) -> float:\n",
    "    delta = abs(rightBorder - leftBorder)\n",
    "    return leftBorder + ( (1 + point) / 2 ) * delta\n",
    "\n",
    "\n",
    "# Коэффициенты в полиноме в порядке возрастания степени\n",
    "def splineValue(coefs: np.ndarray, point: float) -> float:\n",
    "    res = 0.0\n",
    "    x_powered = 1\n",
    "    for coef in coefs:\n",
    "        res += coef * x_powered\n",
    "        x_powered = x_powered * point\n",
    "    return res\n",
    "\n",
    "#TODO\n",
    "def splineValueDeriv(coefs: np.ndarray, point: float) -> float:\n",
    "    res = 0.0\n",
    "    for i in range(len(coefs)):\n",
    "        res += i * coefs[i] * pow(point, i)\n",
    "    return res\n",
    "\n",
    "#TODO \n",
    "def splineValueDerivDeriv(coefs: np.ndarray, point: float) -> float:\n",
    "    res = 0.0\n",
    "    x_powered = 1\n",
    "    for coef in coefs:\n",
    "        res += coef * x_powered\n",
    "        x_powered = x_powered * point\n",
    "    return res\n"
   ]
  },
  {
   "cell_type": "code",
   "execution_count": 2,
   "metadata": {},
   "outputs": [
    {
     "name": "stdout",
     "output_type": "stream",
     "text": [
      "[-10.  -5.   0.   5.  10.]\n",
      "[-8.943375672974064, -6.0566243270259355, -3.9433756729740645, -1.0566243270259355, 1.0566243270259355, 3.9433756729740645, 6.0566243270259355, 8.943375672974064]\n"
     ]
    }
   ],
   "source": [
    "numberOfPoints = 5\n",
    "boxBorder = 10\n",
    "potential = 5\n",
    "\n",
    "x_ks = np.linspace(-boxBorder, boxBorder, numberOfPoints)\n",
    "collocationsPoints = []\n",
    "for i in range(numberOfPoints - 1):\n",
    "    collocationsPoints.append(projectOnInterval(x_ks[i], x_ks[i + 1], leftRoot))\n",
    "    collocationsPoints.append(projectOnInterval(x_ks[i], x_ks[i + 1], rightRoot))\n",
    "\n",
    "print(x_ks)\n",
    "print(collocationsPoints)"
   ]
  },
  {
   "cell_type": "markdown",
   "metadata": {},
   "source": [
    "$S_3^1 (x) = s_0 + s_1 * x + s_2 * x^2 + s_3 * x^3$"
   ]
  }
 ],
 "metadata": {
  "kernelspec": {
   "display_name": "Python 3.9.5 ('SpectralTasks': venv)",
   "language": "python",
   "name": "python3"
  },
  "language_info": {
   "codemirror_mode": {
    "name": "ipython",
    "version": 3
   },
   "file_extension": ".py",
   "mimetype": "text/x-python",
   "name": "python",
   "nbconvert_exporter": "python",
   "pygments_lexer": "ipython3",
   "version": "3.9.5"
  },
  "orig_nbformat": 4,
  "vscode": {
   "interpreter": {
    "hash": "fef5f63e9848abdf8a0595d92a4b6c5ef2dc2844bcf78e919d331948248abc2f"
   }
  }
 },
 "nbformat": 4,
 "nbformat_minor": 2
}
