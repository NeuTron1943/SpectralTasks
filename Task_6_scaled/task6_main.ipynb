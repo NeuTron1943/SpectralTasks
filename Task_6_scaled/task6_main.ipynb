{
 "cells": [
  {
   "cell_type": "code",
   "execution_count": 23,
   "metadata": {},
   "outputs": [],
   "source": [
    "import numpy as np\n",
    "from matplotlib import pyplot as plt\n",
    "from scipy.special import factorial\n",
    "from scipy.linalg import inv as Inv\n",
    "from scipy.linalg import eig\n",
    "from scipy.sparse import diags\n",
    "import time\n",
    "\n",
    "\n",
    "\n",
    "# x, t  --> ksi, tau\n",
    "def subtitution(x, t, R_func):\n",
    "    ksi = x / R_func(t)\n",
    "    tau = t\n",
    "    return (ksi, tau)\n",
    "\n",
    "def subtitutionXT(ksi, tau, R_func):\n",
    "    t = tau\n",
    "    x = ksi * R_func(t)\n",
    "    return (x, t)\n",
    "\n",
    "\n",
    "def polyFit(t0, dt, gamma): \n",
    "    rhs = np.array([1, 1 + gamma *dt , 0 , gamma], dtype=np.double)\n",
    "    t1 = t0 - dt \n",
    "    t2 = t0 + dt\n",
    "    matrix = np.array([[1, t1, t1**2, t1**3],\n",
    "                        [1, t2, t2**2, t2**3],\n",
    "                        [0, 1, 2 * t1, 3 * t1**2],\n",
    "                        [0, 1, 2 * t2, 3 * t2**2]])\n",
    "    res = np.linalg.solve(matrix, rhs)\n",
    "    return res\n",
    "\n",
    "def polynom(x, coefs):\n",
    "    res = 0.0\n",
    "    for idx, c in enumerate(coefs):\n",
    "        res += c * (x**idx)\n",
    "    return res\n",
    "\n",
    "def matrixExponent(matr, isDiagonal=False, isTridiagonal=False):\n",
    "    n = matr.shape[0]\n",
    "    first_term = np.diag(np.ones(n)) + matr / 2\n",
    "    second_term = np.diag(np.ones(n)) - matr / 2\n",
    "    second_term = Inv(second_term)\n",
    "    return first_term @ second_term\n",
    "\n",
    "    \n",
    "def R_function(t, coefs, gamma, t0, dt):\n",
    "    if t <= t0 - dt:\n",
    "        return 1.0\n",
    "    elif t <= t0 + dt:\n",
    "        return polynom(t, coefs)\n",
    "    else:\n",
    "        return gamma * t + 1 - gamma * t0\n",
    "    \n",
    "def R_deriv(t, coefs, gamma, t0, dt):\n",
    "    if t <= t0 - dt:\n",
    "        return 0.0\n",
    "    elif t <= t0 + dt:\n",
    "        return 3 * coefs[3] * t * t + 2 * coefs[2] * t + coefs[1]\n",
    "    else:\n",
    "        return gamma\n",
    "        \n",
    "\n",
    "def R_deriv_deriv(t, coefs, t0, dt):\n",
    "    if t0 - dt <= t <= t0 + dt:\n",
    "        return 6 * coefs[3] * t + 2 * coefs[2]\n",
    "    else:\n",
    "        return 0.0\n",
    "\n",
    "def waveFunctionTheory(x, t, p_0):\n",
    "    # ampl = 1.0 / np.sqrt(1 + 1j * t)\n",
    "    ampl =  np.sqrt(np.sqrt( 1.0 / (2 * np.pi))) #  * 1.0 /( np.sqrt(1 + 1j * t) )\n",
    "    expPart = np.exp( ( (2 * p_0 + 1j * x)**2 ) / ( 4 * (1 + 1j * t) )  - p_0**2)\n",
    "    return ampl * expPart\n",
    "\n",
    "def psi_analytical(x, t):\n",
    "    ampl = 1 / np.sqrt(1 + 1j * t)  *  np.sqrt(np.sqrt(1 / (2 * np.pi)))\n",
    "    exponent = np.exp(- x**2 / (4 * (1 + 1j * t)))\n",
    "    return ampl * exponent\n",
    "\n",
    "def psi_0(x, sigma, x0, p0) -> complex:\n",
    "    ampl = 1.0 / (np.sqrt(sigma * np.sqrt(np.pi)))\n",
    "    firstExp = np.exp( (-1) * ( (x - x0) / (np.sqrt(2) * sigma) )**2 )\n",
    "    secondExp = np.exp(1j * p0 * x)\n",
    "    return ampl * firstExp * secondExp\n",
    "\n",
    "def squaredNorm(value):\n",
    "    return abs(value)**2\n",
    "\n",
    "def makeH_ksi_t(t, chis, n: int, R: np.double, coefs, gamma, t0, dt) -> np.ndarray:\n",
    "    R_func = R_function(t, coefs, gamma, t0, dt)\n",
    "    delta = 2*R / (n-1)\n",
    "    H0_diagonal = np.zeros(n, dtype=np.double)\n",
    "    H0_subDiagonal = np.ones(n-1, dtype=np.double) * (-1) / (delta * delta * R_func * R_func)\n",
    "    \n",
    "    xs = np.linspace(-R, R, n, dtype=np.double)\n",
    "    for i in range(n):\n",
    "        H0_diagonal[i] = 2 / (delta * delta * R_func * R_func) +  R_deriv_deriv(t, coefs, t0, dt) * R_func * chis[i] * chis[i]/ 4\n",
    "\n",
    "    # return diags([diagonal, subDiagonal, subDiagonal], [0, -1, 1])\n",
    "    return diags([H0_diagonal, H0_subDiagonal, H0_subDiagonal], [0, -1, 1]).toarray()  \n",
    "    # return (H0_diagonal, H0_subDiagonal)\n",
    "\n",
    "def psi_to_phi(psi, chis, t, coefs, gamma, t0, dt):\n",
    "    first_term = np.sqrt(R_function(t, coefs, gamma, t0, dt))\n",
    "    second_term = np.exp( (1j / 4) * R_deriv(t, coefs, gamma, t0, dt) * R_function(t, coefs, gamma, t0, dt) * chis**2 )\n",
    "    return first_term * second_term * psi\n",
    "\n",
    "def phi_to_psi(phi, chis, t, coefs, gamma, t0, dt):\n",
    "    first_term = 1 / np.sqrt(R_function(t, coefs, gamma, t0, dt))\n",
    "    second_term = np.exp( (-1j / 4) * R_deriv(t, coefs, gamma, t0, dt) * R_function(t, coefs, gamma, t0, dt) * chis**2 )\n",
    "    return first_term * second_term * phi"
   ]
  },
  {
   "cell_type": "code",
   "execution_count": 5,
   "metadata": {},
   "outputs": [
    {
     "data": {
      "image/png": "[encoded data removed]",
      "text/plain": [
       "<Figure size 640x480 with 1 Axes>"
      ]
     },
     "metadata": {},
     "output_type": "display_data"
    }
   ],
   "source": [
    "t0 = 4\n",
    "dt = 0.2\n",
    "gamma = 0.5\n",
    "coefs = polyFit(t0, dt, gamma)\n",
    "xs = np.linspace(0, 1.1*t0, 1000)\n",
    "ys = np.zeros_like(xs)\n",
    "for idx, x in enumerate(xs):\n",
    "    ys[idx] = R_function(x, coefs, gamma, t0, dt)\n",
    "\n",
    "plt.plot(xs, ys)\n",
    "plt.xlim([t0 - 2 * dt, t0 + 2*dt])\n",
    "plt.xlabel(\"t\")\n",
    "plt.ylabel(\"R(t)\")\n",
    "plt.title(\"R(t)\")\n",
    "plt.savefig((\"R_t.png\"), dpi=300, bbox_inches='tight')\n",
    "plt.show()\n"
   ]
  },
  {
   "cell_type": "code",
   "execution_count": 8,
   "metadata": {},
   "outputs": [
    {
     "name": "stdout",
     "output_type": "stream",
     "text": [
      "0.0 0\n",
      "1.0 1\n",
      "2.0 2\n",
      "3.0 3\n",
      "4.0 4\n",
      "5.0 5\n",
      "6.0 6\n",
      "7.0 7\n",
      "8.0 8\n",
      "9.0 9\n",
      "10.0 10\n"
     ]
    },
    {
     "data": {
      "image/png": "[encoded data removed]",
      "text/plain": [
       "<Figure size 640x480 with 1 Axes>"
      ]
     },
     "metadata": {},
     "output_type": "display_data"
    }
   ],
   "source": [
    "numberOfPoints = 1000\n",
    "boxBorder = 50\n",
    "x_0 = 0\n",
    "p_0 = 0\n",
    "\n",
    "xs = np.linspace(-boxBorder, boxBorder, numberOfPoints)\n",
    "# ys = squaredNorm(psi_0(xs, sigma, x_0, p_0))\n",
    "\n",
    "\n",
    "# plt.plot(xs, ys)\n",
    "# plt.show()\n",
    "\n",
    "ts = np.linspace(0, 10, 11)\n",
    "for t, ind in zip(ts, range(len(ts))):\n",
    "    print(t, end=\" \")\n",
    "    print(ind)\n",
    "    psi_t = waveFunctionTheory(xs, t, p_0)\n",
    "    \n",
    "    plt.plot(xs, squaredNorm(psi_t), label=(\"t = {:2.1f}\".format(t)))\n",
    "\n",
    "plt.legend()\n",
    "plt.show()"
   ]
  },
  {
   "cell_type": "code",
   "execution_count": 30,
   "metadata": {},
   "outputs": [
    {
     "name": "stderr",
     "output_type": "stream",
     "text": [
      "C:\\Users\\kiril\\AppData\\Local\\Temp\\ipykernel_6536\\1476034464.py:44: RuntimeWarning: More than 20 figures have been opened. Figures created through the pyplot interface (`matplotlib.pyplot.figure`) are retained until explicitly closed and may consume too much memory. (To control this warning, see the rcParam `figure.max_open_warning`). Consider using `matplotlib.pyplot.close()`.\n",
      "  fig, axes = plt.subplots(ncols=2, nrows=1, figsize=(15, 5))\n"
     ]
    },
    {
     "data": {
      "text/plain": [
       "<Figure size 1500x500 with 0 Axes>"
      ]
     },
     "metadata": {},
     "output_type": "display_data"
    },
    {
     "data": {
      "text/plain": [
       "<Figure size 1500x500 with 0 Axes>"
      ]
     },
     "metadata": {},
     "output_type": "display_data"
    },
    {
     "data": {
      "text/plain": [
       "<Figure size 1500x500 with 0 Axes>"
      ]
     },
     "metadata": {},
     "output_type": "display_data"
    },
    {
     "data": {
      "text/plain": [
       "<Figure size 1500x500 with 0 Axes>"
      ]
     },
     "metadata": {},
     "output_type": "display_data"
    },
    {
     "data": {
      "text/plain": [
       "<Figure size 1500x500 with 0 Axes>"
      ]
     },
     "metadata": {},
     "output_type": "display_data"
    },
    {
     "data": {
      "text/plain": [
       "<Figure size 1500x500 with 0 Axes>"
      ]
     },
     "metadata": {},
     "output_type": "display_data"
    },
    {
     "data": {
      "text/plain": [
       "<Figure size 1500x500 with 0 Axes>"
      ]
     },
     "metadata": {},
     "output_type": "display_data"
    },
    {
     "data": {
      "text/plain": [
       "<Figure size 1500x500 with 0 Axes>"
      ]
     },
     "metadata": {},
     "output_type": "display_data"
    },
    {
     "data": {
      "text/plain": [
       "<Figure size 1500x500 with 0 Axes>"
      ]
     },
     "metadata": {},
     "output_type": "display_data"
    },
    {
     "data": {
      "text/plain": [
       "<Figure size 1500x500 with 0 Axes>"
      ]
     },
     "metadata": {},
     "output_type": "display_data"
    },
    {
     "data": {
      "text/plain": [
       "<Figure size 1500x500 with 0 Axes>"
      ]
     },
     "metadata": {},
     "output_type": "display_data"
    },
    {
     "data": {
      "text/plain": [
       "<Figure size 1500x500 with 0 Axes>"
      ]
     },
     "metadata": {},
     "output_type": "display_data"
    },
    {
     "data": {
      "text/plain": [
       "<Figure size 1500x500 with 0 Axes>"
      ]
     },
     "metadata": {},
     "output_type": "display_data"
    },
    {
     "data": {
      "text/plain": [
       "<Figure size 1500x500 with 0 Axes>"
      ]
     },
     "metadata": {},
     "output_type": "display_data"
    },
    {
     "data": {
      "text/plain": [
       "<Figure size 1500x500 with 0 Axes>"
      ]
     },
     "metadata": {},
     "output_type": "display_data"
    },
    {
     "data": {
      "text/plain": [
       "<Figure size 1500x500 with 0 Axes>"
      ]
     },
     "metadata": {},
     "output_type": "display_data"
    },
    {
     "data": {
      "text/plain": [
       "<Figure size 1500x500 with 0 Axes>"
      ]
     },
     "metadata": {},
     "output_type": "display_data"
    },
    {
     "data": {
      "text/plain": [
       "<Figure size 1500x500 with 0 Axes>"
      ]
     },
     "metadata": {},
     "output_type": "display_data"
    },
    {
     "data": {
      "text/plain": [
       "<Figure size 1500x500 with 0 Axes>"
      ]
     },
     "metadata": {},
     "output_type": "display_data"
    },
    {
     "data": {
      "text/plain": [
       "<Figure size 1500x500 with 0 Axes>"
      ]
     },
     "metadata": {},
     "output_type": "display_data"
    },
    {
     "data": {
      "text/plain": [
       "<Figure size 1500x500 with 0 Axes>"
      ]
     },
     "metadata": {},
     "output_type": "display_data"
    },
    {
     "data": {
      "text/plain": [
       "<Figure size 1500x500 with 0 Axes>"
      ]
     },
     "metadata": {},
     "output_type": "display_data"
    },
    {
     "data": {
      "text/plain": [
       "<Figure size 1500x500 with 0 Axes>"
      ]
     },
     "metadata": {},
     "output_type": "display_data"
    },
    {
     "data": {
      "text/plain": [
       "<Figure size 1500x500 with 0 Axes>"
      ]
     },
     "metadata": {},
     "output_type": "display_data"
    },
    {
     "data": {
      "text/plain": [
       "<Figure size 1500x500 with 0 Axes>"
      ]
     },
     "metadata": {},
     "output_type": "display_data"
    },
    {
     "data": {
      "text/plain": [
       "<Figure size 1500x500 with 0 Axes>"
      ]
     },
     "metadata": {},
     "output_type": "display_data"
    },
    {
     "data": {
      "text/plain": [
       "<Figure size 1500x500 with 0 Axes>"
      ]
     },
     "metadata": {},
     "output_type": "display_data"
    },
    {
     "data": {
      "text/plain": [
       "<Figure size 1500x500 with 0 Axes>"
      ]
     },
     "metadata": {},
     "output_type": "display_data"
    },
    {
     "data": {
      "text/plain": [
       "<Figure size 1500x500 with 0 Axes>"
      ]
     },
     "metadata": {},
     "output_type": "display_data"
    },
    {
     "data": {
      "text/plain": [
       "<Figure size 1500x500 with 0 Axes>"
      ]
     },
     "metadata": {},
     "output_type": "display_data"
    },
    {
     "data": {
      "text/plain": [
       "<Figure size 1500x500 with 0 Axes>"
      ]
     },
     "metadata": {},
     "output_type": "display_data"
    },
    {
     "data": {
      "text/plain": [
       "<Figure size 1500x500 with 0 Axes>"
      ]
     },
     "metadata": {},
     "output_type": "display_data"
    },
    {
     "data": {
      "text/plain": [
       "<Figure size 1500x500 with 0 Axes>"
      ]
     },
     "metadata": {},
     "output_type": "display_data"
    },
    {
     "data": {
      "text/plain": [
       "<Figure size 1500x500 with 0 Axes>"
      ]
     },
     "metadata": {},
     "output_type": "display_data"
    },
    {
     "data": {
      "text/plain": [
       "<Figure size 1500x500 with 0 Axes>"
      ]
     },
     "metadata": {},
     "output_type": "display_data"
    },
    {
     "data": {
      "text/plain": [
       "<Figure size 1500x500 with 0 Axes>"
      ]
     },
     "metadata": {},
     "output_type": "display_data"
    },
    {
     "data": {
      "text/plain": [
       "<Figure size 1500x500 with 0 Axes>"
      ]
     },
     "metadata": {},
     "output_type": "display_data"
    },
    {
     "data": {
      "text/plain": [
       "<Figure size 1500x500 with 0 Axes>"
      ]
     },
     "metadata": {},
     "output_type": "display_data"
    },
    {
     "data": {
      "text/plain": [
       "<Figure size 1500x500 with 0 Axes>"
      ]
     },
     "metadata": {},
     "output_type": "display_data"
    },
    {
     "data": {
      "text/plain": [
       "<Figure size 1500x500 with 0 Axes>"
      ]
     },
     "metadata": {},
     "output_type": "display_data"
    },
    {
     "data": {
      "text/plain": [
       "<Figure size 1500x500 with 0 Axes>"
      ]
     },
     "metadata": {},
     "output_type": "display_data"
    },
    {
     "data": {
      "text/plain": [
       "<Figure size 1500x500 with 0 Axes>"
      ]
     },
     "metadata": {},
     "output_type": "display_data"
    },
    {
     "data": {
      "text/plain": [
       "<Figure size 1500x500 with 0 Axes>"
      ]
     },
     "metadata": {},
     "output_type": "display_data"
    },
    {
     "data": {
      "text/plain": [
       "<Figure size 1500x500 with 0 Axes>"
      ]
     },
     "metadata": {},
     "output_type": "display_data"
    },
    {
     "data": {
      "text/plain": [
       "<Figure size 1500x500 with 0 Axes>"
      ]
     },
     "metadata": {},
     "output_type": "display_data"
    },
    {
     "data": {
      "text/plain": [
       "<Figure size 1500x500 with 0 Axes>"
      ]
     },
     "metadata": {},
     "output_type": "display_data"
    },
    {
     "data": {
      "text/plain": [
       "<Figure size 1500x500 with 0 Axes>"
      ]
     },
     "metadata": {},
     "output_type": "display_data"
    },
    {
     "data": {
      "text/plain": [
       "<Figure size 1500x500 with 0 Axes>"
      ]
     },
     "metadata": {},
     "output_type": "display_data"
    },
    {
     "data": {
      "text/plain": [
       "<Figure size 1500x500 with 0 Axes>"
      ]
     },
     "metadata": {},
     "output_type": "display_data"
    },
    {
     "data": {
      "text/plain": [
       "<Figure size 1500x500 with 0 Axes>"
      ]
     },
     "metadata": {},
     "output_type": "display_data"
    },
    {
     "data": {
      "text/plain": [
       "<Figure size 1500x500 with 0 Axes>"
      ]
     },
     "metadata": {},
     "output_type": "display_data"
    },
    {
     "data": {
      "text/plain": [
       "<Figure size 1500x500 with 0 Axes>"
      ]
     },
     "metadata": {},
     "output_type": "display_data"
    },
    {
     "data": {
      "text/plain": [
       "<Figure size 1500x500 with 0 Axes>"
      ]
     },
     "metadata": {},
     "output_type": "display_data"
    },
    {
     "data": {
      "text/plain": [
       "<Figure size 1500x500 with 0 Axes>"
      ]
     },
     "metadata": {},
     "output_type": "display_data"
    },
    {
     "data": {
      "text/plain": [
       "<Figure size 1500x500 with 0 Axes>"
      ]
     },
     "metadata": {},
     "output_type": "display_data"
    },
    {
     "data": {
      "text/plain": [
       "<Figure size 1500x500 with 0 Axes>"
      ]
     },
     "metadata": {},
     "output_type": "display_data"
    },
    {
     "data": {
      "text/plain": [
       "<Figure size 1500x500 with 0 Axes>"
      ]
     },
     "metadata": {},
     "output_type": "display_data"
    },
    {
     "data": {
      "text/plain": [
       "<Figure size 1500x500 with 0 Axes>"
      ]
     },
     "metadata": {},
     "output_type": "display_data"
    },
    {
     "data": {
      "text/plain": [
       "<Figure size 1500x500 with 0 Axes>"
      ]
     },
     "metadata": {},
     "output_type": "display_data"
    },
    {
     "data": {
      "text/plain": [
       "<Figure size 1500x500 with 0 Axes>"
      ]
     },
     "metadata": {},
     "output_type": "display_data"
    },
    {
     "data": {
      "text/plain": [
       "<Figure size 1500x500 with 0 Axes>"
      ]
     },
     "metadata": {},
     "output_type": "display_data"
    },
    {
     "data": {
      "text/plain": [
       "<Figure size 1500x500 with 0 Axes>"
      ]
     },
     "metadata": {},
     "output_type": "display_data"
    },
    {
     "data": {
      "text/plain": [
       "<Figure size 1500x500 with 0 Axes>"
      ]
     },
     "metadata": {},
     "output_type": "display_data"
    },
    {
     "data": {
      "text/plain": [
       "<Figure size 1500x500 with 0 Axes>"
      ]
     },
     "metadata": {},
     "output_type": "display_data"
    },
    {
     "data": {
      "text/plain": [
       "<Figure size 1500x500 with 0 Axes>"
      ]
     },
     "metadata": {},
     "output_type": "display_data"
    },
    {
     "data": {
      "text/plain": [
       "<Figure size 1500x500 with 0 Axes>"
      ]
     },
     "metadata": {},
     "output_type": "display_data"
    },
    {
     "data": {
      "text/plain": [
       "<Figure size 1500x500 with 0 Axes>"
      ]
     },
     "metadata": {},
     "output_type": "display_data"
    },
    {
     "data": {
      "text/plain": [
       "<Figure size 1500x500 with 0 Axes>"
      ]
     },
     "metadata": {},
     "output_type": "display_data"
    },
    {
     "data": {
      "text/plain": [
       "<Figure size 1500x500 with 0 Axes>"
      ]
     },
     "metadata": {},
     "output_type": "display_data"
    },
    {
     "data": {
      "text/plain": [
       "<Figure size 1500x500 with 0 Axes>"
      ]
     },
     "metadata": {},
     "output_type": "display_data"
    },
    {
     "data": {
      "text/plain": [
       "<Figure size 1500x500 with 0 Axes>"
      ]
     },
     "metadata": {},
     "output_type": "display_data"
    },
    {
     "data": {
      "text/plain": [
       "<Figure size 1500x500 with 0 Axes>"
      ]
     },
     "metadata": {},
     "output_type": "display_data"
    },
    {
     "data": {
      "text/plain": [
       "<Figure size 1500x500 with 0 Axes>"
      ]
     },
     "metadata": {},
     "output_type": "display_data"
    },
    {
     "data": {
      "text/plain": [
       "<Figure size 1500x500 with 0 Axes>"
      ]
     },
     "metadata": {},
     "output_type": "display_data"
    },
    {
     "data": {
      "text/plain": [
       "<Figure size 1500x500 with 0 Axes>"
      ]
     },
     "metadata": {},
     "output_type": "display_data"
    },
    {
     "data": {
      "text/plain": [
       "<Figure size 1500x500 with 0 Axes>"
      ]
     },
     "metadata": {},
     "output_type": "display_data"
    },
    {
     "data": {
      "text/plain": [
       "<Figure size 1500x500 with 0 Axes>"
      ]
     },
     "metadata": {},
     "output_type": "display_data"
    },
    {
     "data": {
      "text/plain": [
       "<Figure size 1500x500 with 0 Axes>"
      ]
     },
     "metadata": {},
     "output_type": "display_data"
    },
    {
     "data": {
      "text/plain": [
       "<Figure size 1500x500 with 0 Axes>"
      ]
     },
     "metadata": {},
     "output_type": "display_data"
    },
    {
     "data": {
      "text/plain": [
       "<Figure size 1500x500 with 0 Axes>"
      ]
     },
     "metadata": {},
     "output_type": "display_data"
    },
    {
     "data": {
      "text/plain": [
       "<Figure size 1500x500 with 0 Axes>"
      ]
     },
     "metadata": {},
     "output_type": "display_data"
    },
    {
     "data": {
      "text/plain": [
       "<Figure size 1500x500 with 0 Axes>"
      ]
     },
     "metadata": {},
     "output_type": "display_data"
    },
    {
     "data": {
      "text/plain": [
       "<Figure size 1500x500 with 0 Axes>"
      ]
     },
     "metadata": {},
     "output_type": "display_data"
    },
    {
     "data": {
      "text/plain": [
       "<Figure size 1500x500 with 0 Axes>"
      ]
     },
     "metadata": {},
     "output_type": "display_data"
    },
    {
     "data": {
      "text/plain": [
       "<Figure size 1500x500 with 0 Axes>"
      ]
     },
     "metadata": {},
     "output_type": "display_data"
    },
    {
     "data": {
      "text/plain": [
       "<Figure size 1500x500 with 0 Axes>"
      ]
     },
     "metadata": {},
     "output_type": "display_data"
    },
    {
     "data": {
      "text/plain": [
       "<Figure size 1500x500 with 0 Axes>"
      ]
     },
     "metadata": {},
     "output_type": "display_data"
    },
    {
     "data": {
      "text/plain": [
       "<Figure size 1500x500 with 0 Axes>"
      ]
     },
     "metadata": {},
     "output_type": "display_data"
    },
    {
     "data": {
      "text/plain": [
       "<Figure size 1500x500 with 0 Axes>"
      ]
     },
     "metadata": {},
     "output_type": "display_data"
    },
    {
     "data": {
      "text/plain": [
       "<Figure size 1500x500 with 0 Axes>"
      ]
     },
     "metadata": {},
     "output_type": "display_data"
    },
    {
     "data": {
      "text/plain": [
       "<Figure size 1500x500 with 0 Axes>"
      ]
     },
     "metadata": {},
     "output_type": "display_data"
    },
    {
     "data": {
      "text/plain": [
       "<Figure size 1500x500 with 0 Axes>"
      ]
     },
     "metadata": {},
     "output_type": "display_data"
    },
    {
     "data": {
      "text/plain": [
       "<Figure size 1500x500 with 0 Axes>"
      ]
     },
     "metadata": {},
     "output_type": "display_data"
    },
    {
     "data": {
      "text/plain": [
       "<Figure size 1500x500 with 0 Axes>"
      ]
     },
     "metadata": {},
     "output_type": "display_data"
    },
    {
     "data": {
      "text/plain": [
       "<Figure size 1500x500 with 0 Axes>"
      ]
     },
     "metadata": {},
     "output_type": "display_data"
    },
    {
     "data": {
      "text/plain": [
       "<Figure size 1500x500 with 0 Axes>"
      ]
     },
     "metadata": {},
     "output_type": "display_data"
    },
    {
     "data": {
      "text/plain": [
       "<Figure size 1500x500 with 0 Axes>"
      ]
     },
     "metadata": {},
     "output_type": "display_data"
    },
    {
     "data": {
      "text/plain": [
       "<Figure size 1500x500 with 0 Axes>"
      ]
     },
     "metadata": {},
     "output_type": "display_data"
    },
    {
     "data": {
      "text/plain": [
       "<Figure size 1500x500 with 0 Axes>"
      ]
     },
     "metadata": {},
     "output_type": "display_data"
    },
    {
     "data": {
      "text/plain": [
       "<Figure size 1500x500 with 0 Axes>"
      ]
     },
     "metadata": {},
     "output_type": "display_data"
    }
   ],
   "source": [
    "numberOfPoints = 1000\n",
    "boxBorder = 10\n",
    "x_0 = 0\n",
    "p_0 = 0\n",
    "t0 = 2\n",
    "dt = 1\n",
    "gamma = 5\n",
    "filenames = []\n",
    "\n",
    "\n",
    "coefs = polyFit(t0, dt, gamma)\n",
    "t_lim = 20\n",
    "n_ts = 100\n",
    "ts = np.linspace(0, t_lim, n_ts)\n",
    "t_step = t_lim / (n_ts - 1)\n",
    "\n",
    "xs = np.linspace(-boxBorder, boxBorder, numberOfPoints)\n",
    "chis = np.linspace(-boxBorder, boxBorder, numberOfPoints)\n",
    "# chis, tau = subtitution(xs, 0, lambda x: R_function(x, coefs, gamma, t0, dt))\n",
    "# psi = waveFunctionTheory(xs, t=0.0, p_0=p_0)# psi_0(xs, sigma, x_0, p_0) \n",
    "psi = psi_analytical(xs, t=0.0)\n",
    "\n",
    "psi_t = psi\n",
    "phi_t = psi_to_phi(psi_t, chis, 0, coefs, gamma, t0, dt)\n",
    "for t, ind in zip(ts, range(len(ts))):\n",
    "    # chis, tau = subtitution(xs, t, lambda x: R_function(x, coefs, gamma, t0, dt))\n",
    "    xs, tau = subtitutionXT(chis, t, lambda x: R_function(x, coefs, gamma, t0, dt))\n",
    "    \n",
    "    psi_t = phi_to_psi(phi_t, chis, t, coefs, gamma, t0, dt)\n",
    "\n",
    "    H_chi = makeH_ksi_t(t + t_step / 2, chis, numberOfPoints, boxBorder, coefs, gamma, t0, dt)\n",
    "    \n",
    "    evolution_step = matrixExponent((-1j) * t_step * H_chi)\n",
    "    # print(evolution_step)\n",
    "    y_theory_x = psi_analytical(xs, t)\n",
    "    y_theory_xi = psi_to_phi(y_theory_x, chis, t, coefs, gamma, t0, dt)\n",
    "    \n",
    "    # H_t = matrixExponent((-1j) * t * H)\n",
    "    # psi_t = H_t @ psi\n",
    "\n",
    "    # print(Integrate(lambda x: coordinateTimeExponent(x, t), -boxBorder, boxBorder))\n",
    "    # print(Integrate(lambda x: psi_0(x, sigma, x_0, p_0), -boxBorder, boxBorder))\n",
    "    \n",
    "    fig, axes = plt.subplots(ncols=2, nrows=1, figsize=(15, 5))\n",
    "\n",
    "    axes[0].plot(xs, squaredNorm(psi_t), label=(\"Module\".format(t)))\n",
    "    axes[0].plot(xs, squaredNorm(y_theory_x), 'r--', label=\"True solution\")\n",
    "    # axes[0].plot(xs, psi_t.real, label=(\"Real\".format(t)))\n",
    "    # axes[0].plot(xs, psi_t.imag, label=(\"Imag\".format(t)))\n",
    "    axes[0].set_title((\"t = {:2.1f}\".format(t)))\n",
    "    axes[0].set_xlabel(\"X\")\n",
    "    axes[0].set_ylabel(\"Psi (X)\")\n",
    "    axes[0].set_ylim(-1, 1)\n",
    "    axes[0].legend(loc='upper right')\n",
    "    axes[1].plot(chis, squaredNorm(phi_t), label=(\"Module\".format(t)))\n",
    "    axes[1].plot(chis, squaredNorm(y_theory_xi), 'r--', label=\"True solution\")\n",
    "    # axes[1].plot(chis, y_theory, 'r--', label=\"True solution\")\n",
    "    # axes[1].plot(chis, phi_t.real , label=(\"Real\".format(t)))\n",
    "    # axes[1].plot(chis, phi_t.imag, label=(\"Imag\".format(t)))\n",
    "    axes[1].set_title((\"t = {:2.1f}\".format(t)))\n",
    "    axes[1].set_xlabel(\"Xi\")\n",
    "    axes[1].set_ylabel(\"Phi (Xi)\")\n",
    "    axes[1].set_ylim(-1, 1.5)\n",
    "    plt.legend(loc='upper right')\n",
    "    \n",
    "\n",
    "    \n",
    "    phi_t = evolution_step @ phi_t\n",
    "    # psi_t = evolution_step @ psi_t\n",
    "    nof = (\"imgs_evol_justModule/t_\" + str(ind) + \".png\")\n",
    "    plt.savefig(nof, dpi=300, bbox_inches='tight')\n",
    "    filenames.append(nof)\n",
    "    plt.clf()\n"
   ]
  },
  {
   "cell_type": "code",
   "execution_count": 31,
   "metadata": {},
   "outputs": [],
   "source": [
    "import imageio\n",
    "images = []\n",
    "for filename in filenames:\n",
    "    images.append(imageio.v2.imread(filename))\n",
    "imageio.mimsave('EvolutionModule.gif', images)"
   ]
  }
 ],
 "metadata": {
  "kernelspec": {
   "display_name": "Python 3.9.5 ('SpectralTasks': venv)",
   "language": "python",
   "name": "python3"
  },
  "language_info": {
   "codemirror_mode": {
    "name": "ipython",
    "version": 3
   },
   "file_extension": ".py",
   "mimetype": "text/x-python",
   "name": "python",
   "nbconvert_exporter": "python",
   "pygments_lexer": "ipython3",
   "version": "3.9.5 (tags/v3.9.5:0a7dcbd, May  3 2021, 17:27:52) [MSC v.1928 64 bit (AMD64)]"
  },
  "orig_nbformat": 4,
  "vscode": {
   "interpreter": {
    "hash": "fef5f63e9848abdf8a0595d92a4b6c5ef2dc2844bcf78e919d331948248abc2f"
   }
  }
 },
 "nbformat": 4,
 "nbformat_minor": 2
}
